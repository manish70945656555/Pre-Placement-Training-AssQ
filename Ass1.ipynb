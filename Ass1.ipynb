{
 "cells": [
  {
   "cell_type": "code",
   "execution_count": null,
   "id": "b8209c5d-9532-4f81-a1b6-d319744c3ddc",
   "metadata": {},
   "outputs": [],
   "source": [
    "Q1. Given an array of integers nums and an integer target, return indices of the two numbers such that they add up to \n",
    "target.\n",
    "\n",
    "You may assume that each input would have exactly one solution, and you may not use the same element twice.\n",
    "\n",
    "You can return the answer in any order.\n",
    "\n",
    "Example:\n",
    "Input: nums = [2,7,11,15], target = 9\n",
    "Output0 [0,1]\n",
    "\n",
    "Explanation: Because nums[0] + nums[1] == 9, we return [0, 1]"
   ]
  },
  {
   "cell_type": "code",
   "execution_count": 3,
   "id": "e17f0101-21c5-4ef7-9d9f-cbf46deb3265",
   "metadata": {},
   "outputs": [
    {
     "name": "stdout",
     "output_type": "stream",
     "text": [
      "[0, 1]\n"
     ]
    }
   ],
   "source": [
    "class Solution:\n",
    "    def twoSum(self, nums, target):\n",
    "        num_indices = {} #i created this empty dictionary to store numbers as keys and their corresponding indices as values.\n",
    "\n",
    "        for i, num in enumerate(nums): #i used this loop to iterate through number and and its index at same time\n",
    "            complement = target - num # creating complement variable\n",
    "\n",
    "            if complement in num_indices: \n",
    "                return [num_indices[complement], i] \n",
    "\n",
    "            num_indices[num] = i\n",
    "\n",
    "        return []\n",
    "\n",
    "nums = [2, 7, 11, 15]\n",
    "target = 9\n",
    "\n",
    "solution = Solution()\n",
    "result = solution.twoSum(nums, target)\n",
    "\n",
    "print(result)"
   ]
  },
  {
   "cell_type": "code",
   "execution_count": null,
   "id": "70be6141-febe-4be8-ab8e-8449d000fbe1",
   "metadata": {},
   "outputs": [],
   "source": [
    "Q2. Given an integer array nums and an integer val, remove all occurrences of val in nums in-place. The order of the elements\n",
    "may be changed. Then return the number of elements in nums which are not equal to val.\n",
    "\n",
    "Consider the number of elements in nums which are not equal to val be k, to get accepted, you need to do the following things:\n",
    "\n",
    "- Change the array nums such that the first k elements of nums contain the elements which are not equal to val. The remaining \n",
    "  elements of nums are not important as well as the size of nums.\n",
    "- Return k.\n",
    "\n",
    "Example :\n",
    "Input: nums = [3,2,2,3], val = 3\n",
    "Output: 2, nums = [2,2,_*,_*]\n",
    "\n",
    "Explanation: Your function should return k = 2, with the first two elements of nums being 2. It does not matter what you leave\n",
    "beyond the returned k (hence they are underscores)"
   ]
  },
  {
   "cell_type": "code",
   "execution_count": 3,
   "id": "3781d725-9114-4589-b9f7-d98de4e7c7c6",
   "metadata": {},
   "outputs": [
    {
     "name": "stdout",
     "output_type": "stream",
     "text": [
      "Number of elements not equal to val: 2\n",
      "Updated nums array: [2, 2]\n"
     ]
    }
   ],
   "source": [
    "class Solution:\n",
    "    def removeElement(self, nums, val):\n",
    "        k = 0\n",
    "        n = len(nums)\n",
    "\n",
    "        for i in range(n):\n",
    "            if nums[i] != val:\n",
    "                nums[k] = nums[i]\n",
    "                k += 1\n",
    "\n",
    "        # Modify the list to reflect the first k elements\n",
    "        nums[:] = nums[:k]\n",
    "\n",
    "        return k\n",
    "    \n",
    "nums = [3, 2, 2, 3]\n",
    "val = 3\n",
    "\n",
    "solution = Solution()\n",
    "k = solution.removeElement(nums, val)\n",
    "print(\"Number of elements not equal to val:\", k)\n",
    "print(\"Updated nums array:\", nums)\n",
    "\n"
   ]
  },
  {
   "cell_type": "code",
   "execution_count": null,
   "id": "a5b3c733-fc6e-4ca6-8182-513e2588a772",
   "metadata": {},
   "outputs": [],
   "source": [
    "Q3. Given a sorted array of distinct integers and a target value, return the index if the target is found. If not, return\n",
    "the index where it would be if it were inserted in order.\n",
    "\n",
    "You must write an algorithm with O(log n) runtime complexity.\n",
    "\n",
    "Example 1:\n",
    "Input: nums = [1,3,5,6], target = 5\n",
    "\n",
    "Output: 2\n"
   ]
  },
  {
   "cell_type": "code",
   "execution_count": 4,
   "id": "deaff816-09fe-4cf3-b4a4-cfcff78c135e",
   "metadata": {},
   "outputs": [
    {
     "name": "stdout",
     "output_type": "stream",
     "text": [
      "Index of the target: 2\n"
     ]
    }
   ],
   "source": [
    "class Solution:\n",
    "    def searchInsert(self, nums, target):\n",
    "        left = 0\n",
    "        right = len(nums) - 1\n",
    "        \n",
    "        while left <= right:\n",
    "            mid = left + (right - left) // 2\n",
    "            \n",
    "            if nums[mid] == target:\n",
    "                return mid\n",
    "            elif nums[mid] < target:\n",
    "                left = mid + 1\n",
    "            else:\n",
    "                right = mid - 1\n",
    "        \n",
    "        return left\n",
    "\n",
    "nums = [1, 3, 5, 6]\n",
    "target = 5\n",
    "\n",
    "solution = Solution()\n",
    "index = solution.searchInsert(nums, target)\n",
    "print(\"Index of the target:\", index)\n"
   ]
  },
  {
   "cell_type": "code",
   "execution_count": null,
   "id": "ed1cbb06-525f-4f83-a1a0-d01113adf8ff",
   "metadata": {},
   "outputs": [],
   "source": [
    "Q4. You are given a large integer represented as an integer array digits, where each digits[i] is the ith digit of the \n",
    "integer. The digits are ordered from most significant to least significant in left-to-right order. The large integer does\n",
    "not contain any leading 0's. \n",
    "\n",
    "Increment the large integer by one and return the resulting array of digits.\n",
    "\n",
    "Example 1:\n",
    "Input: digits = [1,2,3]\n",
    "Output: [1,2,4]\n",
    "\n",
    "Explanation: The array represents the integer 123.\n",
    "\n",
    "Incrementing by one gives 123 + 1 = 124.\n",
    "Thus, the result should be [1,2,4].\n"
   ]
  },
  {
   "cell_type": "code",
   "execution_count": 5,
   "id": "6af57c0a-1b7d-400a-8eb4-eafaceffd5b3",
   "metadata": {},
   "outputs": [
    {
     "name": "stdout",
     "output_type": "stream",
     "text": [
      "Result: [1, 2, 4]\n"
     ]
    }
   ],
   "source": [
    "class Solution:\n",
    "    def plusOne(self, digits):\n",
    "        n = len(digits)\n",
    "        carry = 1\n",
    "\n",
    "        for i in range(n - 1, -1, -1):\n",
    "            digits[i] += carry\n",
    "\n",
    "            if digits[i] <= 9:\n",
    "                carry = 0\n",
    "                break\n",
    "\n",
    "            digits[i] = 0\n",
    "\n",
    "        if carry == 1:\n",
    "            digits.insert(0, 1)\n",
    "\n",
    "        return digits\n",
    "\n",
    "digits = [1, 2, 3]\n",
    "\n",
    "solution = Solution()\n",
    "result = solution.plusOne(digits)\n",
    "print(\"Result:\", result)\n"
   ]
  },
  {
   "cell_type": "code",
   "execution_count": null,
   "id": "26cc5aa1-f392-4b9a-bb84-bc9b1c473e0a",
   "metadata": {},
   "outputs": [],
   "source": [
    "Q.5 You are given two integer arrays nums1 and nums2, sorted in non-decreasing order, and two integers m and n, representing\n",
    "the number of elements in nums1 and nums2 respectively.\n",
    "\n",
    "Merge nums1 and nums2 into a single array sorted in non-decreasing order.\n",
    "\n",
    "The final sorted array should not be returned by the function, but instead be stored inside the array nums1. To accommodate \n",
    "this, nums1 has a length of m + n, where the first m elements denote the elements that should be merged, and the last n\n",
    "elements are set to 0 and should be ignored. nums2 has a length of n.\n",
    "\n",
    "Example 1:\n",
    "Input: nums1 = [1,2,3,0,0,0], m = 3, nums2 = [2,5,6], n = 3\n",
    "Output: [1,2,2,3,5,6]\n",
    "\n",
    "Explanation: The arrays we are merging are [1,2,3] and [2,5,6].\n",
    "The result of the merge is [1,2,2,3,5,6] with the underlined elements coming from nums1.\n"
   ]
  },
  {
   "cell_type": "code",
   "execution_count": 6,
   "id": "412b15d5-a956-4947-9b2c-53917b277ecf",
   "metadata": {},
   "outputs": [
    {
     "name": "stdout",
     "output_type": "stream",
     "text": [
      "Result: [1, 2, 2, 3, 5, 6]\n"
     ]
    }
   ],
   "source": [
    "class Solution:\n",
    "    def merge(self, nums1, m, nums2, n):\n",
    "        p1 = m - 1\n",
    "        p2 = n - 1\n",
    "        p = m + n - 1\n",
    "\n",
    "        while p1 >= 0 and p2 >= 0:\n",
    "            if nums1[p1] <= nums2[p2]:\n",
    "                nums1[p] = nums2[p2]\n",
    "                p2 -= 1\n",
    "            else:\n",
    "                nums1[p] = nums1[p1]\n",
    "                p1 -= 1\n",
    "            p -= 1\n",
    "\n",
    "        while p2 >= 0:\n",
    "            nums1[p] = nums2[p2]\n",
    "            p2 -= 1\n",
    "            p -= 1\n",
    "\n",
    "        return nums1\n",
    "\n",
    "nums1 = [1, 2, 3, 0, 0, 0]\n",
    "m = 3\n",
    "nums2 = [2, 5, 6]\n",
    "n = 3\n",
    "\n",
    "solution = Solution()\n",
    "result = solution.merge(nums1, m, nums2, n)\n",
    "print(\"Result:\", result)\n"
   ]
  },
  {
   "cell_type": "code",
   "execution_count": null,
   "id": "32fe7e92-5cc6-4b20-8a39-088056b70e9c",
   "metadata": {},
   "outputs": [],
   "source": [
    "Q6.Given an integer array nums, return true if any value appears at least twice in the array, and return false if every \n",
    "element is distinct.\n",
    "\n",
    "Example 1:\n",
    "Input: nums = [1,2,3,1]\n",
    "\n",
    "Output: true\n"
   ]
  },
  {
   "cell_type": "code",
   "execution_count": 7,
   "id": "30e8bb3b-e4c8-4ecc-8523-ed8823c827b5",
   "metadata": {},
   "outputs": [
    {
     "name": "stdout",
     "output_type": "stream",
     "text": [
      "Result: True\n"
     ]
    }
   ],
   "source": [
    "class Solution:\n",
    "    def containsDuplicate(self, nums):\n",
    "        num_set = set()\n",
    "\n",
    "        for num in nums:\n",
    "            if num in num_set:\n",
    "                return True\n",
    "            num_set.add(num)\n",
    "\n",
    "        return False\n",
    "\n",
    "nums = [1, 2, 3, 1]\n",
    "\n",
    "solution = Solution()\n",
    "result = solution.containsDuplicate(nums)\n",
    "print(\"Result:\", result)\n"
   ]
  },
  {
   "cell_type": "code",
   "execution_count": null,
   "id": "1df6e718-ae0d-4b0c-8b21-c6571fcfd6af",
   "metadata": {},
   "outputs": [],
   "source": [
    "Q.7 Given an integer array nums, move all 0's to the end of it while maintaining the relative order of the nonzero elements.\n",
    "\n",
    "Note that you must do this in-place without making a copy of the array.\n",
    "\n",
    "Example 1:\n",
    "Input: nums = [0,1,0,3,12]\n",
    "Output: [1,3,12,0,0]"
   ]
  },
  {
   "cell_type": "code",
   "execution_count": 8,
   "id": "d11dcfa2-b03f-40a0-9947-26386be00ec0",
   "metadata": {},
   "outputs": [
    {
     "name": "stdout",
     "output_type": "stream",
     "text": [
      "Result: [1, 3, 12, 0, 0]\n"
     ]
    }
   ],
   "source": [
    "class Solution:\n",
    "    def moveZeroes(self, nums):\n",
    "        # Initialize two pointers\n",
    "        left = 0  # Points to the current non-zero element\n",
    "        right = 0  # Points to the next element\n",
    "        \n",
    "        # Move non-zero elements to the left\n",
    "        while right < len(nums):\n",
    "            if nums[right] != 0:\n",
    "                # Swap the non-zero element with the left pointer\n",
    "                nums[left], nums[right] = nums[right], nums[left]\n",
    "                left += 1\n",
    "            right += 1\n",
    "\n",
    "nums = [0, 1, 0, 3, 12]\n",
    "\n",
    "solution = Solution()\n",
    "solution.moveZeroes(nums)\n",
    "print(\"Result:\", nums)\n"
   ]
  },
  {
   "cell_type": "code",
   "execution_count": null,
   "id": "0f8e03c5-a327-4d77-ac18-d5759a59df20",
   "metadata": {},
   "outputs": [],
   "source": [
    "Q8. You have a set of integers s, which originally contains all the numbers from 1 to n. Unfortunately, due to some error,\n",
    "one of the numbers in s got duplicated to another number in the set, which results in repetition of one number and loss \n",
    "of another number.\n",
    "\n",
    "You are given an integer array nums representing the data status of this set after the error.\n",
    "\n",
    "Find the number that occurs twice and the number that is missing and return them in the form of an array.\n",
    "\n",
    "Example 1:\n",
    "Input: nums = [1,2,2,4]\n",
    "Output: [2,3]"
   ]
  },
  {
   "cell_type": "code",
   "execution_count": 9,
   "id": "7164d69b-dac4-4eba-b4c9-f6450dafaf82",
   "metadata": {},
   "outputs": [
    {
     "name": "stdout",
     "output_type": "stream",
     "text": [
      "Result: [2, 3]\n"
     ]
    }
   ],
   "source": [
    "class Solution:\n",
    "    def findErrorNums(self, nums):\n",
    "        n = len(nums)\n",
    "        xor = 0\n",
    "        for i in range(n):\n",
    "            xor ^= (i + 1) ^ nums[i]\n",
    "        \n",
    "        # Find the rightmost set bit in xor\n",
    "        rightmost_set_bit = xor & (-xor)\n",
    "        \n",
    "        num1 = 0\n",
    "        num2 = 0\n",
    "        for i in range(n):\n",
    "            if nums[i] & rightmost_set_bit:\n",
    "                num1 ^= nums[i]\n",
    "            else:\n",
    "                num2 ^= nums[i]\n",
    "        \n",
    "        for i in range(1, n + 1):\n",
    "            if i & rightmost_set_bit:\n",
    "                num1 ^= i\n",
    "            else:\n",
    "                num2 ^= i\n",
    "        \n",
    "        for num in nums:\n",
    "            if num == num1:\n",
    "                return [num1, num2]\n",
    "        \n",
    "        return [num2, num1]\n",
    "\n",
    "nums = [1, 2, 2, 4]\n",
    "\n",
    "solution = Solution()\n",
    "result = solution.findErrorNums(nums)\n",
    "print(\"Result:\", result)\n"
   ]
  },
  {
   "cell_type": "code",
   "execution_count": null,
   "id": "fa4dbb3d-0b42-4914-a5c7-888bb53bda31",
   "metadata": {},
   "outputs": [],
   "source": []
  }
 ],
 "metadata": {
  "kernelspec": {
   "display_name": "Python 3 (ipykernel)",
   "language": "python",
   "name": "python3"
  },
  "language_info": {
   "codemirror_mode": {
    "name": "ipython",
    "version": 3
   },
   "file_extension": ".py",
   "mimetype": "text/x-python",
   "name": "python",
   "nbconvert_exporter": "python",
   "pygments_lexer": "ipython3",
   "version": "3.10.8"
  }
 },
 "nbformat": 4,
 "nbformat_minor": 5
}
